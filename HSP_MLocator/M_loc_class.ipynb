{
 "cells": [
  {
   "cell_type": "code",
   "execution_count": null,
   "metadata": {},
   "outputs": [],
   "source": [
    "import numpy as np\n",
    "import pandas as pd\n",
    "from scipy.linalg import pinv\n",
    "import itertools\n",
    "import HSP_SolvP as HSP\n",
    "import HSP_M_loc as LOCM\n",
    "from mpl_toolkits import mplot3d\n",
    "import matplotlib.pyplot as plt\n",
    "import os"
   ]
  },
  {
   "cell_type": "code",
   "execution_count": null,
   "metadata": {},
   "outputs": [],
   "source": [
    "class MLocSolvPred():\n",
    "\n",
    "    def __init__(self, exp_result, input_solv, db):\n",
    "        self.mop = LOCM.MLoc(exp_result, db)\n",
    "        print(self.mop.folder_path)\n",
    "        self.pred = HSP.SolvPredictor(input_solv, db, folder_name = self.mop.folder_path)\n",
    "    \n",
    "    def run_all(self, alpha = 0.001, n_max = 1000000, tol_mop = 0.0001, n = 3, rep_time = 50, std = 0.1, tol_pred = 0.1, red_tol = 0.01):\n",
    "        cord_result = self.mop.run_all(alpha = alpha, n_max = n_max, tol = tol_mop)\n",
    "        self.pred.run_all(n, cord_result[0][0], cord_result[0][1], cord_result[0][2], rep_time = rep_time, std = std, tol = tol_pred, red_tol = red_tol)\n",
    "\n",
    "mp = MLocSolvPred(r'input_mloc_data.xlsx', r'input_solv_sel.xlsx', r'db.xlsx')\n",
    "mp.run_all()"
   ]
  },
  {
   "cell_type": "code",
   "execution_count": null,
   "metadata": {},
   "outputs": [],
   "source": []
  }
 ],
 "metadata": {
  "kernelspec": {
   "display_name": "Python 3.7.3 ('base')",
   "language": "python",
   "name": "python3"
  },
  "language_info": {
   "codemirror_mode": {
    "name": "ipython",
    "version": 3
   },
   "file_extension": ".py",
   "mimetype": "text/x-python",
   "name": "python",
   "nbconvert_exporter": "python",
   "pygments_lexer": "ipython3",
   "version": "3.7.3"
  },
  "vscode": {
   "interpreter": {
    "hash": "deb4792152b8b9767403eeef0a1b0f34b83d442136ccee9184cd7d1131f09aa0"
   }
  }
 },
 "nbformat": 4,
 "nbformat_minor": 2
}
